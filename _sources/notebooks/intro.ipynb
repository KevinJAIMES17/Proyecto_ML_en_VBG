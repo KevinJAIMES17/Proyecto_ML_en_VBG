{
 "cells": [
  {
   "cell_type": "markdown",
   "metadata": {},
   "source": [
    "## **Introducción**\n",
    "\n",
    "El Análisis Exploratorio de Datos (EDA, por sus siglas en inglés) es una etapa fundamental en la investigación basada en datos, ya que permite comprender la estructura, distribución y relaciones subyacentes en el conjunto de datos antes de aplicar técnicas avanzadas de modelado estadístico o de machine learning. Como destaca Tukey (1977) {cite:ps}`tukey1977`, el EDA no se limita a resumir la información, sino que busca descubrir patrones, identificar anomalías y formular hipótesis que orienten el análisis posterior. En este estudio, el EDA se enfoca en la información recopilada por el Sistema Nacional de Vigilancia en Salud Pública (Sivigila) sobre violencia de género en Colombia, abarcando exclusivamente casos de mujeres menores de 80 años y restringido al periodo 2018–2023.\n",
    "\n",
    "La base de datos integra diversos tipos de incidentes que reflejan la complejidad de la violencia de género, abarcando situaciones de violencia física, psicológica y sexual, entre otras manifestaciones que evidencian las múltiples dimensiones de este problema social y de salud pública. Dado que la información proviene de un sistema de vigilancia, se dispone tanto de variables categóricas, como el tipo de violencia, la región geográfica y la pertenencia étnica, como de variables numéricas, tales como la edad y el número de incidentes reportados.\n",
    "\n",
    "Un análisis exploratorio riguroso, como el propuesto por Wickham y Grolemund (2017) {cite:ps}`wickham2017`, permite identificar variables clave, detectar valores atípicos, gestionar datos faltantes y evaluar correlaciones relevantes entre las variables predictoras y la variable objetivo. En este estudio, el objetivo es extraer las características más significativas asociadas a desenlaces graves (hospitalización o muerte), lo que facilitará la preparación y el posterior desarrollo de modelos predictivos tanto de clasificación—para predecir el desenlace de cada caso—como de regresión, orientados a estimar la influencia de factores temporales y geográficos en la atención médica.\n",
    "\n",
    "Finalmente, la transformación y normalización de las variables asegurarán que el conjunto de datos sea adecuado para la aplicación de técnicas de machine learning, garantizando la integridad y robustez de los modelos predictivos desarrollados en esta investigación."
   ]
  }
 ],
 "metadata": {
  "language_info": {
   "name": "python"
  }
 },
 "nbformat": 4,
 "nbformat_minor": 2
}
